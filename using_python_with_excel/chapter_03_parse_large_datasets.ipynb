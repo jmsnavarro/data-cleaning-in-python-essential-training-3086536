{
 "cells": [
  {
   "cell_type": "code",
   "execution_count": 39,
   "metadata": {},
   "outputs": [],
   "source": [
    "import pandas as pd\n",
    "import numpy as np\n",
    "from openpyxl.utils.dataframe import dataframe_to_rows\n",
    "from openpyxl import load_workbook"
   ]
  },
  {
   "cell_type": "code",
   "execution_count": 40,
   "metadata": {},
   "outputs": [],
   "source": [
    "wb = load_workbook('template.xlsx')\n",
    "ws = wb.active"
   ]
  },
  {
   "cell_type": "code",
   "execution_count": 41,
   "metadata": {},
   "outputs": [],
   "source": [
    "df = pd.read_csv('crime.csv', encoding='utf-8', dtype={\"INCIDENT_NUMBER\": str, \"OFFENSE_CODE\": str,\n",
    "                                                       \"OFFENSE_CODE_GROUP\": str, \"OFFENSE_DESCRIPTION\": str,\n",
    "                                                       \"DISTRICT\": str, \"REPORTING_AREA\": str, \n",
    "                                                       \"SHOOTING\": str, \"YEAR\": str, \"MONTH\": str,\n",
    "                                                       \"DAY_OF_WEEK\": str, \"HOUR\": str})\n",
    "\n",
    "df1 = df[df['OFFENSE_CODE_GROUP'] == 'Counterfeiting']\n",
    "df1 = df1.replace(np.nan, 'N/A', regex=True)"
   ]
  },
  {
   "cell_type": "code",
   "execution_count": 42,
   "metadata": {},
   "outputs": [],
   "source": [
    "total_crimes = len(df.index)\n",
    "counterfeit = len(df1.index)\n",
    "perc_crimes = (counterfeit / total_crimes) * 100\n",
    "perc_crimes = round(perc_crimes, 2)"
   ]
  },
  {
   "cell_type": "code",
   "execution_count": 43,
   "metadata": {},
   "outputs": [],
   "source": [
    "ws['O8'].value = total_crimes\n",
    "ws['P8'].value = counterfeit\n",
    "ws['Q8'].value = perc_crimes"
   ]
  },
  {
   "cell_type": "code",
   "execution_count": 44,
   "metadata": {},
   "outputs": [],
   "source": [
    "df1['Count'] = 1\n",
    "df2 = df1.groupby(['DISTRICT', 'YEAR']).count()['Count'].unstack(level=0)"
   ]
  },
  {
   "cell_type": "code",
   "execution_count": 45,
   "metadata": {},
   "outputs": [
    {
     "name": "stdout",
     "output_type": "stream",
     "text": [
      "DISTRICT    A1  A15    A7    B2    B3   C11    C6   D14    D4   E13   E18  \\\n",
      "YEAR                                                                        \n",
      "2015      25.0  5.0   6.0  32.0  26.0  73.0  16.0   6.0  35.0  17.0  20.0   \n",
      "2016      57.0  2.0  16.0  68.0  44.0  98.0  28.0  32.0  64.0  42.0  26.0   \n",
      "2017      37.0  8.0  14.0  64.0  34.0  62.0  27.0  69.0  66.0  37.0  23.0   \n",
      "2018      27.0  3.0   8.0  28.0  23.0  41.0  21.0  15.0  49.0  18.0  17.0   \n",
      "\n",
      "DISTRICT    E5  N/A  \n",
      "YEAR                 \n",
      "2015      15.0  NaN  \n",
      "2016      17.0  NaN  \n",
      "2017      15.0  1.0  \n",
      "2018      11.0  1.0  \n"
     ]
    }
   ],
   "source": [
    "print(df2)"
   ]
  },
  {
   "cell_type": "code",
   "execution_count": 46,
   "metadata": {},
   "outputs": [
    {
     "name": "stdout",
     "output_type": "stream",
     "text": [
      "DISTRICT    A1  A15    A7    B2    B3   C11    C6   D14    D4   E13   E18  \\\n",
      "YEAR                                                                        \n",
      "2015      25.0  5.0   6.0  32.0  26.0  73.0  16.0   6.0  35.0  17.0  20.0   \n",
      "2016      57.0  2.0  16.0  68.0  44.0  98.0  28.0  32.0  64.0  42.0  26.0   \n",
      "2017      37.0  8.0  14.0  64.0  34.0  62.0  27.0  69.0  66.0  37.0  23.0   \n",
      "2018      27.0  3.0   8.0  28.0  23.0  41.0  21.0  15.0  49.0  18.0  17.0   \n",
      "\n",
      "DISTRICT    E5  \n",
      "YEAR            \n",
      "2015      15.0  \n",
      "2016      17.0  \n",
      "2017      15.0  \n",
      "2018      11.0  \n"
     ]
    }
   ],
   "source": [
    "df2.drop(columns='N/A', inplace=True)\n",
    "print(df2)"
   ]
  },
  {
   "cell_type": "code",
   "execution_count": 47,
   "metadata": {},
   "outputs": [],
   "source": [
    "rows = dataframe_to_rows(df2)\n",
    "for r_idx, row in enumerate(rows, 8):\n",
    "    for c_idx, value in enumerate(row, 1):\n",
    "        ws.cell(row=r_idx, column=c_idx, value=value)\n",
    "\n",
    "wb.save('crime_report.xlsx')"
   ]
  },
  {
   "cell_type": "code",
   "execution_count": null,
   "metadata": {},
   "outputs": [],
   "source": []
  }
 ],
 "metadata": {
  "kernelspec": {
   "display_name": "Python 3",
   "language": "python",
   "name": "python3"
  },
  "language_info": {
   "codemirror_mode": {
    "name": "ipython",
    "version": 3
   },
   "file_extension": ".py",
   "mimetype": "text/x-python",
   "name": "python",
   "nbconvert_exporter": "python",
   "pygments_lexer": "ipython3",
   "version": "3.10.11"
  },
  "orig_nbformat": 4
 },
 "nbformat": 4,
 "nbformat_minor": 2
}
