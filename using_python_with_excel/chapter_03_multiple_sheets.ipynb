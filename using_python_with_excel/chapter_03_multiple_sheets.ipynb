{
 "cells": [
  {
   "cell_type": "code",
   "execution_count": 9,
   "metadata": {},
   "outputs": [],
   "source": [
    "import pandas as pd\n",
    "from openpyxl import load_workbook\n",
    "from openpyxl.styles import Font"
   ]
  },
  {
   "cell_type": "code",
   "execution_count": 10,
   "metadata": {},
   "outputs": [
    {
     "name": "stdout",
     "output_type": "stream",
     "text": [
      "    Shift Region Sales Rep Product  Cost per  Units Sold\n",
      "50      1  South  Shirlene  Binder        30         176\n",
      "50      2  North   Jenifer  Pencil         5          62\n",
      "50      3   West    Conrad  Folder        17          51\n",
      "Shift\n",
      "1    114.767677\n",
      "2    112.460000\n",
      "3    109.343434\n",
      "Name: Units Sold, dtype: float64\n"
     ]
    },
    {
     "name": "stderr",
     "output_type": "stream",
     "text": [
      "/tmp/ipykernel_20827/2203622508.py:7: FutureWarning: The default value of numeric_only in DataFrameGroupBy.mean is deprecated. In a future version, numeric_only will default to False. Either specify numeric_only or select only columns which should be valid for the function.\n",
      "  print(df_all.groupby(['Shift']).mean()['Units Sold'])\n"
     ]
    }
   ],
   "source": [
    "df_1 = pd.read_excel('shifts.xlsx', sheet_name='Sheet')\n",
    "df_2 = pd.read_excel('shifts.xlsx', sheet_name='Sheet1')\n",
    "df_3 = pd.read_excel('shift_3.xlsx')\n",
    "df_all = pd.concat([df_1, df_2, df_3], sort=False)\n",
    "\n",
    "print(df_all.loc[50])\n",
    "print(df_all.groupby(['Shift']).mean()['Units Sold'])"
   ]
  },
  {
   "cell_type": "code",
   "execution_count": 11,
   "metadata": {},
   "outputs": [],
   "source": [
    "# export to excel\n",
    "to_excel = df_all.to_excel('all_shifts.xlsx', index=None)"
   ]
  },
  {
   "cell_type": "code",
   "execution_count": 13,
   "metadata": {},
   "outputs": [
    {
     "ename": "KeyError",
     "evalue": "'Worksheet G1 does not exist.'",
     "output_type": "error",
     "traceback": [
      "\u001b[0;31m---------------------------------------------------------------------------\u001b[0m",
      "\u001b[0;31mKeyError\u001b[0m                                  Traceback (most recent call last)",
      "Cell \u001b[0;32mIn[13], line 4\u001b[0m\n\u001b[1;32m      1\u001b[0m ws \u001b[39m=\u001b[39m load_workbook(\u001b[39m'\u001b[39m\u001b[39mall_shifts.xlsx\u001b[39m\u001b[39m'\u001b[39m)\n\u001b[1;32m      2\u001b[0m wb \u001b[39m=\u001b[39m ws\u001b[39m.\u001b[39mactive\n\u001b[0;32m----> 4\u001b[0m total_col \u001b[39m=\u001b[39m ws[\u001b[39m'\u001b[39;49m\u001b[39mG1\u001b[39;49m\u001b[39m'\u001b[39;49m]\n\u001b[1;32m      5\u001b[0m total_col\u001b[39m.\u001b[39mfont \u001b[39m=\u001b[39m Font(bold\u001b[39m=\u001b[39m\u001b[39mTrue\u001b[39;00m)\n\u001b[1;32m      6\u001b[0m total_col\u001b[39m.\u001b[39mvalue \u001b[39m=\u001b[39m \u001b[39m'\u001b[39m\u001b[39mTotal\u001b[39m\u001b[39m'\u001b[39m\n",
      "File \u001b[0;32m~/.local/lib/python3.10/site-packages/openpyxl/workbook/workbook.py:287\u001b[0m, in \u001b[0;36mWorkbook.__getitem__\u001b[0;34m(self, key)\u001b[0m\n\u001b[1;32m    285\u001b[0m     \u001b[39mif\u001b[39;00m sheet\u001b[39m.\u001b[39mtitle \u001b[39m==\u001b[39m key:\n\u001b[1;32m    286\u001b[0m         \u001b[39mreturn\u001b[39;00m sheet\n\u001b[0;32m--> 287\u001b[0m \u001b[39mraise\u001b[39;00m \u001b[39mKeyError\u001b[39;00m(\u001b[39m\"\u001b[39m\u001b[39mWorksheet \u001b[39m\u001b[39m{0}\u001b[39;00m\u001b[39m does not exist.\u001b[39m\u001b[39m\"\u001b[39m\u001b[39m.\u001b[39mformat(key))\n",
      "\u001b[0;31mKeyError\u001b[0m: 'Worksheet G1 does not exist.'"
     ]
    }
   ],
   "source": [
    "ws = load_workbook('all_shifts.xlsx')\n",
    "wb = ws.active\n",
    "\n",
    "total_col = ws['G1']\n",
    "total_col.font = Font(bold=True)\n",
    "total_col.value = 'Total'\n",
    "\n",
    "e_col, f_col = ['E', 'F']\n",
    "for row in range(2,300):\n",
    "    result_cell = 'G{}'.format(row)\n",
    "    e_value = ws[e_col + str(row)].value\n",
    "    f_value = ws[f_col + str(row)].value\n",
    "    ws[result_cell] = e_value *  f_value\n",
    "\n",
    "ws.save('totaled_all_shifts.xlsx')"
   ]
  },
  {
   "cell_type": "code",
   "execution_count": null,
   "metadata": {},
   "outputs": [],
   "source": []
  }
 ],
 "metadata": {
  "kernelspec": {
   "display_name": "Python 3",
   "language": "python",
   "name": "python3"
  },
  "language_info": {
   "codemirror_mode": {
    "name": "ipython",
    "version": 3
   },
   "file_extension": ".py",
   "mimetype": "text/x-python",
   "name": "python",
   "nbconvert_exporter": "python",
   "pygments_lexer": "ipython3",
   "version": "3.10.11"
  },
  "orig_nbformat": 4
 },
 "nbformat": 4,
 "nbformat_minor": 2
}
