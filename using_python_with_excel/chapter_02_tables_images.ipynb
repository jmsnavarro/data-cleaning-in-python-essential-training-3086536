{
 "cells": [
  {
   "cell_type": "code",
   "execution_count": 2,
   "metadata": {},
   "outputs": [],
   "source": [
    "from openpyxl.worksheet.table import Table, TableStyleInfo\n",
    "from openpyxl.drawing.image import Image\n",
    "from openpyxl import load_workbook\n",
    "\n",
    "wb = load_workbook('Pie.xlsx')\n",
    "ws = wb.active"
   ]
  },
  {
   "cell_type": "code",
   "execution_count": 3,
   "metadata": {},
   "outputs": [],
   "source": [
    "# set styles\n",
    "tab = Table(displayName='Table1', ref='A1:B5')\n",
    "style = TableStyleInfo(name='TableStyleMedium9', showFirstColumn=False, showLastColumn=False, \n",
    "                       showRowStripes=True, showColumnStripes=True)\n",
    "tab.tableStyleInfo = style\n",
    "ws.add_table(tab)"
   ]
  },
  {
   "cell_type": "code",
   "execution_count": 4,
   "metadata": {},
   "outputs": [],
   "source": [
    "# export to excel\n",
    "wb.save('table_pie.xlsx')"
   ]
  },
  {
   "cell_type": "code",
   "execution_count": 5,
   "metadata": {},
   "outputs": [],
   "source": [
    "# image setup\n",
    "img = Image('madecraft.jpg')\n",
    "img.height = img.height * 0.25\n",
    "img.width = img.width * 0.25\n",
    "ws.add_image(img, 'C1')\n",
    "wb.save('image_table_pie_2.xlsx')"
   ]
  },
  {
   "cell_type": "code",
   "execution_count": null,
   "metadata": {},
   "outputs": [],
   "source": []
  }
 ],
 "metadata": {
  "kernelspec": {
   "display_name": "Python 3",
   "language": "python",
   "name": "python3"
  },
  "language_info": {
   "codemirror_mode": {
    "name": "ipython",
    "version": 3
   },
   "file_extension": ".py",
   "mimetype": "text/x-python",
   "name": "python",
   "nbconvert_exporter": "python",
   "pygments_lexer": "ipython3",
   "version": "3.10.11"
  },
  "orig_nbformat": 4
 },
 "nbformat": 4,
 "nbformat_minor": 2
}
