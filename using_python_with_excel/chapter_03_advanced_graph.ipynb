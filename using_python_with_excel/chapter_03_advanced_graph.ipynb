{
 "cells": [
  {
   "cell_type": "code",
   "execution_count": 4,
   "metadata": {},
   "outputs": [],
   "source": [
    "from openpyxl import load_workbook\n",
    "from openpyxl.chart import BarChart, PieChart, Series, Reference"
   ]
  },
  {
   "cell_type": "code",
   "execution_count": 5,
   "metadata": {},
   "outputs": [],
   "source": [
    "wb = load_workbook('crime_report.xlsx')\n",
    "ws = wb.active"
   ]
  },
  {
   "cell_type": "code",
   "execution_count": 6,
   "metadata": {},
   "outputs": [],
   "source": [
    "chart = BarChart()\n",
    "data = Reference(ws, min_row=10, min_col=1, max_col=13, max_row=13)\n",
    "labels = Reference(ws, min_row=8, min_col=2, max_row=8, max_col=13)\n",
    "chart.add_data(data, from_rows=True, titles_from_data=True)\n",
    "chart.set_categories(labels)\n",
    "chart.title = 'Counterfeit Crimes by District'\n",
    "chart.height = 4.56\n",
    "chart.width = 20.3\n",
    "ws.add_chart(chart, 'B14')\n",
    "\n",
    "chart2 = PieChart()\n",
    "data = Reference(ws, min_col=15, max_col=16, min_row=8, max_row=8)\n",
    "labels = Reference(ws, min_col=15, max_col=16, min_row=7, max_row=7)\n",
    "chart2.add_data(data, from_rows=True)\n",
    "chart2.title = '% Counterfeit Crimes'\n",
    "chart2.height = 4.56\n",
    "chart2.width = 8.45\n",
    "ws.add_chart(chart2, 'N14')\n",
    "\n",
    "wb.save('lines.xlsx')"
   ]
  },
  {
   "cell_type": "code",
   "execution_count": null,
   "metadata": {},
   "outputs": [],
   "source": []
  }
 ],
 "metadata": {
  "kernelspec": {
   "display_name": "Python 3",
   "language": "python",
   "name": "python3"
  },
  "language_info": {
   "codemirror_mode": {
    "name": "ipython",
    "version": 3
   },
   "file_extension": ".py",
   "mimetype": "text/x-python",
   "name": "python",
   "nbconvert_exporter": "python",
   "pygments_lexer": "ipython3",
   "version": "3.10.11"
  },
  "orig_nbformat": 4
 },
 "nbformat": 4,
 "nbformat_minor": 2
}
